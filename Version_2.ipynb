{
  "nbformat": 4,
  "nbformat_minor": 0,
  "metadata": {
    "colab": {
      "provenance": [],
      "gpuType": "T4",
      "authorship_tag": "ABX9TyOL1OHkTxglt63GHsClrAe4",
      "include_colab_link": true
    },
    "kernelspec": {
      "name": "python3",
      "display_name": "Python 3"
    },
    "language_info": {
      "name": "python"
    },
    "accelerator": "GPU"
  },
  "cells": [
    {
      "cell_type": "markdown",
      "metadata": {
        "id": "view-in-github",
        "colab_type": "text"
      },
      "source": [
        "<a href=\"https://colab.research.google.com/github/Spidy104/Random-Assignment--DL/blob/main/Version_2.ipynb\" target=\"_parent\"><img src=\"https://colab.research.google.com/assets/colab-badge.svg\" alt=\"Open In Colab\"/></a>"
      ]
    },
    {
      "cell_type": "code",
      "execution_count": 1,
      "metadata": {
        "id": "nNctGAvyoTN1"
      },
      "outputs": [],
      "source": [
        "import torch\n",
        "import torch.nn as nn\n",
        "import torch.optim as optim\n",
        "import torchvision\n",
        "import torchvision.transforms as transforms\n",
        "from torch.utils.data import DataLoader, random_split, Dataset\n",
        "import numpy as np\n",
        "import matplotlib.pyplot as plt\n",
        "from sklearn.metrics import classification_report"
      ]
    },
    {
      "cell_type": "code",
      "source": [
        "# Select device (GPU if available)\n",
        "device = torch.device(\"cuda\" if torch.cuda.is_available() else \"cpu\")\n",
        "print(f\"Using device: {device}\")"
      ],
      "metadata": {
        "colab": {
          "base_uri": "https://localhost:8080/"
        },
        "id": "ezBb_DlVoyAN",
        "outputId": "6bb1b21d-09b8-490c-e1e1-8d0efefa7a49"
      },
      "execution_count": 2,
      "outputs": [
        {
          "output_type": "stream",
          "name": "stdout",
          "text": [
            "Using device: cuda\n"
          ]
        }
      ]
    },
    {
      "cell_type": "code",
      "source": [
        "# Define transforms with data augmentation for training\n",
        "transform_train = transforms.Compose([\n",
        "    transforms.RandomRotation(10),           # Rotate images up to 10 degrees\n",
        "    transforms.RandomAffine(degrees=0, translate=(0.1, 0.1)),  # Random translation\n",
        "    transforms.ToTensor(),                   # Convert to tensor and normalize to [0,1]\n",
        "    transforms.Normalize((0.1307,), (0.3081,)),  # Standardize with MNIST-like stats\n",
        "])\n",
        "\n",
        "transform_test = transforms.Compose([\n",
        "    transforms.ToTensor(),\n",
        "    transforms.Normalize((0.1307,), (0.3081,)),\n",
        "])\n",
        "\n",
        "# Load EMNIST-Letters dataset\n",
        "train_dataset_full = torchvision.datasets.EMNIST(\n",
        "    root='./data', split='letters', train=True, download=True, transform=None\n",
        ")\n",
        "test_dataset = torchvision.datasets.EMNIST(\n",
        "    root='./data', split='letters', train=False, download=True, transform=transform_test\n",
        ")\n",
        "\n",
        "# Split training data into train and validation sets (90% train, 10% val)\n",
        "train_size = int(0.9 * len(train_dataset_full))\n",
        "val_size = len(train_dataset_full) - train_size\n",
        "train_subset, val_subset = random_split(train_dataset_full, [train_size, val_size])\n"
      ],
      "metadata": {
        "colab": {
          "base_uri": "https://localhost:8080/"
        },
        "id": "Krdhl1yfpFwm",
        "outputId": "d3787e9d-36f7-4ac6-aff6-90ca92c1b9e6"
      },
      "execution_count": 3,
      "outputs": [
        {
          "output_type": "stream",
          "name": "stderr",
          "text": [
            "100%|██████████| 562M/562M [00:05<00:00, 109MB/s]\n"
          ]
        }
      ]
    },
    {
      "cell_type": "code",
      "source": [
        "# Custom dataset class to apply transforms to subsets\n",
        "class TransformedDataset(Dataset):\n",
        "    def __init__(self, subset, transform):\n",
        "        self.subset = subset\n",
        "        self.transform = transform\n",
        "\n",
        "    def __len__(self):\n",
        "        return len(self.subset)\n",
        "\n",
        "    def __getitem__(self, idx):\n",
        "        img, label = self.subset[idx]\n",
        "        if self.transform:\n",
        "            img = self.transform(img)\n",
        "        return img, label\n",
        "\n",
        "# Apply transforms to train and val datasets\n",
        "train_dataset = TransformedDataset(train_subset, transform_train)\n",
        "val_dataset = TransformedDataset(val_subset, transform_test)\n",
        "\n",
        "# Create data loaders\n",
        "train_loader = DataLoader(train_dataset, batch_size=128, shuffle=True)\n",
        "val_loader = DataLoader(val_dataset, batch_size=128, shuffle=False)\n",
        "test_loader = DataLoader(test_dataset, batch_size=128, shuffle=False)\n"
      ],
      "metadata": {
        "id": "Ao1L1IvWpWew"
      },
      "execution_count": 4,
      "outputs": []
    },
    {
      "cell_type": "code",
      "source": [
        "# Function to adjust labels (1-26 to 0-25)\n",
        "def adjust_labels(labels):\n",
        "    return labels - 1\n",
        "\n",
        "# Define the optimized CNN model\n",
        "class OptimizedLetterCNN(nn.Module):\n",
        "    def __init__(self):\n",
        "        super(OptimizedLetterCNN, self).__init__()\n",
        "        # Block 1: 2 conv layers with 32 filters\n",
        "        self.block1 = nn.Sequential(\n",
        "            nn.Conv2d(1, 32, kernel_size=3, padding=1),\n",
        "            nn.BatchNorm2d(32),\n",
        "            nn.ReLU(),\n",
        "            nn.Conv2d(32, 32, kernel_size=3, padding=1),\n",
        "            nn.BatchNorm2d(32),\n",
        "            nn.ReLU(),\n",
        "            nn.MaxPool2d(2, 2),  # 28x28 -> 14x14\n",
        "        )\n",
        "        # Block 2: 2 conv layers with 64 filters\n",
        "        self.block2 = nn.Sequential(\n",
        "            nn.Conv2d(32, 64, kernel_size=3, padding=1),\n",
        "            nn.BatchNorm2d(64),\n",
        "            nn.ReLU(),\n",
        "            nn.Conv2d(64, 64, kernel_size=3, padding=1),\n",
        "            nn.BatchNorm2d(64),\n",
        "            nn.ReLU(),\n",
        "            nn.MaxPool2d(2, 2),  # 14x14 -> 7x7\n",
        "        )\n",
        "        # Block 3: 1 conv layer with 128 filters\n",
        "        self.block3 = nn.Sequential(\n",
        "            nn.Conv2d(64, 128, kernel_size=3, padding=1),\n",
        "            nn.BatchNorm2d(128),\n",
        "            nn.ReLU(),\n",
        "            nn.AdaptiveAvgPool2d((4, 4)),  # 7x7 -> 4x4\n",
        "        )\n",
        "        # Fully connected layers\n",
        "        self.fc = nn.Sequential(\n",
        "            nn.Flatten(),\n",
        "            nn.Linear(128 * 4 * 4, 512),\n",
        "            nn.ReLU(),\n",
        "            nn.Dropout(0.5),\n",
        "            nn.Linear(512, 26),  # 26 classes for letters A-Z\n",
        "        )\n",
        "\n",
        "    def forward(self, x):\n",
        "        x = self.block1(x)\n",
        "        x = self.block2(x)\n",
        "        x = self.block3(x)\n",
        "        x = self.fc(x)\n",
        "        return x\n"
      ],
      "metadata": {
        "id": "yh0dH0tnpZ7j"
      },
      "execution_count": 5,
      "outputs": []
    },
    {
      "cell_type": "code",
      "source": [
        "# Initialize model, criterion, optimizer, and scheduler\n",
        "model = OptimizedLetterCNN().to(device)\n",
        "criterion = nn.CrossEntropyLoss()\n",
        "optimizer = optim.Adam(model.parameters(), lr=0.001)\n",
        "scheduler = optim.lr_scheduler.ReduceLROnPlateau(optimizer, mode='min', factor=0.1, patience=5)"
      ],
      "metadata": {
        "id": "W7n-NEuGpchH"
      },
      "execution_count": 7,
      "outputs": []
    },
    {
      "cell_type": "code",
      "source": [
        "# Training and evaluation functions\n",
        "def train(model, loader, optimizer, criterion, device):\n",
        "    model.train()\n",
        "    running_loss = 0.0\n",
        "    correct = 0\n",
        "    total = 0\n",
        "    for images, labels in loader:\n",
        "        images, labels = images.to(device), adjust_labels(labels).to(device)\n",
        "        optimizer.zero_grad()\n",
        "        outputs = model(images)\n",
        "        loss = criterion(outputs, labels)\n",
        "        loss.backward()\n",
        "        optimizer.step()\n",
        "        running_loss += loss.item()\n",
        "        _, predicted = torch.max(outputs, 1)\n",
        "        total += labels.size(0)\n",
        "        correct += (predicted == labels).sum().item()\n",
        "    loss = running_loss / len(loader)\n",
        "    accuracy = 100 * correct / total\n",
        "    return loss, accuracy\n",
        "\n",
        "def evaluate(model, loader, criterion, device):\n",
        "    model.eval()\n",
        "    running_loss = 0.0\n",
        "    correct = 0\n",
        "    total = 0\n",
        "    with torch.no_grad():\n",
        "        for images, labels in loader:\n",
        "            images, labels = images.to(device), adjust_labels(labels).to(device)\n",
        "            outputs = model(images)\n",
        "            loss = criterion(outputs, labels)\n",
        "            running_loss += loss.item()\n",
        "            _, predicted = torch.max(outputs, 1)\n",
        "            total += labels.size(0)\n",
        "            correct += (predicted == labels).sum().item()\n",
        "    loss = running_loss / len(loader)\n",
        "    accuracy = 100 * correct / total\n",
        "    return loss, accuracy\n"
      ],
      "metadata": {
        "id": "hNrrlYPgpq0w"
      },
      "execution_count": 8,
      "outputs": []
    },
    {
      "cell_type": "code",
      "source": [
        "# Training loop with early stopping\n",
        "num_epochs = 50\n",
        "best_val_acc = 0.0\n",
        "patience = 10\n",
        "trigger_times = 0\n",
        "train_losses = []\n",
        "train_accuracies = []\n",
        "val_losses = []\n",
        "val_accuracies = []\n",
        "\n",
        "for epoch in range(num_epochs):\n",
        "    train_loss, train_acc = train(model, train_loader, optimizer, criterion, device)\n",
        "    val_loss, val_acc = evaluate(model, val_loader, criterion, device)\n",
        "    train_losses.append(train_loss)\n",
        "    train_accuracies.append(train_acc)\n",
        "    val_losses.append(val_loss)\n",
        "    val_accuracies.append(val_acc)\n",
        "    print(f\"Epoch {epoch+1}/{num_epochs}, Train Loss: {train_loss:.4f}, Train Acc: {train_acc:.2f}%, \"\n",
        "          f\"Val Loss: {val_loss:.4f}, Val Acc: {val_acc:.2f}%\")\n",
        "\n",
        "    # Update learning rate based on validation loss\n",
        "    scheduler.step(val_loss)\n",
        "\n",
        "    # Early stopping based on validation accuracy\n",
        "    if val_acc > best_val_acc:\n",
        "        best_val_acc = val_acc\n",
        "        trigger_times = 0\n",
        "        torch.save(model.state_dict(), 'best_model.pth')\n",
        "    else:\n",
        "        trigger_times += 1\n",
        "        if trigger_times >= patience:\n",
        "            print(\"Early stopping!\")\n",
        "            break\n",
        "\n",
        "# Load best model and evaluate on test set\n",
        "model.load_state_dict(torch.load('best_model.pth'))\n",
        "test_loss, test_acc = evaluate(model, test_loader, criterion, device)\n",
        "print(f\"Test Loss: {test_loss:.4f}, Test Acc: {test_acc:.2f}%\")"
      ],
      "metadata": {
        "colab": {
          "base_uri": "https://localhost:8080/"
        },
        "id": "zU2vYo-ipuW4",
        "outputId": "a21a94da-6aaf-4caf-9064-d782e51f1972"
      },
      "execution_count": 9,
      "outputs": [
        {
          "output_type": "stream",
          "name": "stdout",
          "text": [
            "Epoch 1/50, Train Loss: 0.5240, Train Acc: 83.31%, Val Loss: 0.2483, Val Acc: 91.71%\n",
            "Epoch 2/50, Train Loss: 0.2806, Train Acc: 90.72%, Val Loss: 0.1900, Val Acc: 93.91%\n",
            "Epoch 3/50, Train Loss: 0.2494, Train Acc: 91.69%, Val Loss: 0.2017, Val Acc: 93.71%\n",
            "Epoch 4/50, Train Loss: 0.2305, Train Acc: 92.25%, Val Loss: 0.1845, Val Acc: 94.26%\n",
            "Epoch 5/50, Train Loss: 0.2163, Train Acc: 92.76%, Val Loss: 0.1698, Val Acc: 94.58%\n",
            "Epoch 6/50, Train Loss: 0.2020, Train Acc: 93.14%, Val Loss: 0.1555, Val Acc: 95.21%\n",
            "Epoch 7/50, Train Loss: 0.1940, Train Acc: 93.39%, Val Loss: 0.1677, Val Acc: 94.59%\n",
            "Epoch 8/50, Train Loss: 0.1862, Train Acc: 93.61%, Val Loss: 0.1515, Val Acc: 95.05%\n",
            "Epoch 9/50, Train Loss: 0.1823, Train Acc: 93.77%, Val Loss: 0.1608, Val Acc: 94.70%\n",
            "Epoch 10/50, Train Loss: 0.1753, Train Acc: 93.99%, Val Loss: 0.1545, Val Acc: 95.06%\n",
            "Epoch 11/50, Train Loss: 0.1704, Train Acc: 94.19%, Val Loss: 0.1475, Val Acc: 95.32%\n",
            "Epoch 12/50, Train Loss: 0.1675, Train Acc: 94.21%, Val Loss: 0.1486, Val Acc: 95.35%\n",
            "Epoch 13/50, Train Loss: 0.1632, Train Acc: 94.33%, Val Loss: 0.1475, Val Acc: 95.26%\n",
            "Epoch 14/50, Train Loss: 0.1608, Train Acc: 94.35%, Val Loss: 0.1470, Val Acc: 95.40%\n",
            "Epoch 15/50, Train Loss: 0.1541, Train Acc: 94.61%, Val Loss: 0.1485, Val Acc: 95.34%\n",
            "Epoch 16/50, Train Loss: 0.1523, Train Acc: 94.70%, Val Loss: 0.1441, Val Acc: 95.56%\n",
            "Epoch 17/50, Train Loss: 0.1488, Train Acc: 94.67%, Val Loss: 0.1366, Val Acc: 95.59%\n",
            "Epoch 18/50, Train Loss: 0.1472, Train Acc: 94.72%, Val Loss: 0.1439, Val Acc: 95.54%\n",
            "Epoch 19/50, Train Loss: 0.1457, Train Acc: 94.82%, Val Loss: 0.1450, Val Acc: 95.28%\n",
            "Epoch 20/50, Train Loss: 0.1406, Train Acc: 94.96%, Val Loss: 0.1437, Val Acc: 95.49%\n",
            "Epoch 21/50, Train Loss: 0.1401, Train Acc: 95.01%, Val Loss: 0.1400, Val Acc: 95.54%\n",
            "Epoch 22/50, Train Loss: 0.1390, Train Acc: 95.01%, Val Loss: 0.1426, Val Acc: 95.52%\n",
            "Epoch 23/50, Train Loss: 0.1356, Train Acc: 95.10%, Val Loss: 0.1426, Val Acc: 95.54%\n",
            "Epoch 24/50, Train Loss: 0.1196, Train Acc: 95.66%, Val Loss: 0.1325, Val Acc: 95.83%\n",
            "Epoch 25/50, Train Loss: 0.1159, Train Acc: 95.68%, Val Loss: 0.1318, Val Acc: 95.86%\n",
            "Epoch 26/50, Train Loss: 0.1119, Train Acc: 95.79%, Val Loss: 0.1317, Val Acc: 95.92%\n",
            "Epoch 27/50, Train Loss: 0.1110, Train Acc: 95.87%, Val Loss: 0.1306, Val Acc: 95.87%\n",
            "Epoch 28/50, Train Loss: 0.1107, Train Acc: 95.87%, Val Loss: 0.1314, Val Acc: 95.79%\n",
            "Epoch 29/50, Train Loss: 0.1093, Train Acc: 95.89%, Val Loss: 0.1322, Val Acc: 95.87%\n",
            "Epoch 30/50, Train Loss: 0.1082, Train Acc: 95.92%, Val Loss: 0.1310, Val Acc: 95.98%\n",
            "Epoch 31/50, Train Loss: 0.1090, Train Acc: 95.92%, Val Loss: 0.1309, Val Acc: 95.93%\n",
            "Epoch 32/50, Train Loss: 0.1065, Train Acc: 96.00%, Val Loss: 0.1322, Val Acc: 95.88%\n",
            "Epoch 33/50, Train Loss: 0.1066, Train Acc: 95.99%, Val Loss: 0.1318, Val Acc: 95.90%\n",
            "Epoch 34/50, Train Loss: 0.1046, Train Acc: 96.07%, Val Loss: 0.1311, Val Acc: 95.93%\n",
            "Epoch 35/50, Train Loss: 0.1045, Train Acc: 96.07%, Val Loss: 0.1312, Val Acc: 95.89%\n",
            "Epoch 36/50, Train Loss: 0.1043, Train Acc: 96.07%, Val Loss: 0.1311, Val Acc: 95.91%\n",
            "Epoch 37/50, Train Loss: 0.1036, Train Acc: 96.12%, Val Loss: 0.1316, Val Acc: 95.91%\n",
            "Epoch 38/50, Train Loss: 0.1040, Train Acc: 96.13%, Val Loss: 0.1312, Val Acc: 95.90%\n",
            "Epoch 39/50, Train Loss: 0.1028, Train Acc: 96.10%, Val Loss: 0.1315, Val Acc: 95.91%\n",
            "Epoch 40/50, Train Loss: 0.1034, Train Acc: 96.06%, Val Loss: 0.1317, Val Acc: 95.92%\n",
            "Early stopping!\n",
            "Test Loss: 0.1314, Test Acc: 95.42%\n"
          ]
        }
      ]
    },
    {
      "cell_type": "code",
      "source": [
        "# Function to get predictions for detailed evaluation\n",
        "def get_predictions(model, loader, device):\n",
        "    model.eval()\n",
        "    all_preds = []\n",
        "    all_labels = []\n",
        "    with torch.no_grad():\n",
        "        for images, labels in loader:\n",
        "            images, labels = images.to(device), adjust_labels(labels).to(device)\n",
        "            outputs = model(images)\n",
        "            _, predicted = torch.max(outputs, 1)\n",
        "            all_preds.extend(predicted.cpu().numpy())\n",
        "            all_labels.extend(labels.cpu().numpy())\n",
        "    return np.array(all_preds), np.array(all_labels)\n",
        "\n",
        "# Get test predictions and print classification report\n",
        "test_preds, test_labels = get_predictions(model, test_loader, device)\n",
        "print(classification_report(test_labels, test_preds, target_names=[chr(i+65) for i in range(26)]))"
      ],
      "metadata": {
        "colab": {
          "base_uri": "https://localhost:8080/"
        },
        "id": "Sp318K-gp2cv",
        "outputId": "fc34b527-9d32-4420-9516-8c40fe6419cd"
      },
      "execution_count": 10,
      "outputs": [
        {
          "output_type": "stream",
          "name": "stdout",
          "text": [
            "              precision    recall  f1-score   support\n",
            "\n",
            "           A       0.96      0.97      0.97       800\n",
            "           B       0.99      0.99      0.99       800\n",
            "           C       0.98      0.98      0.98       800\n",
            "           D       0.97      0.97      0.97       800\n",
            "           E       0.98      0.98      0.98       800\n",
            "           F       0.99      0.97      0.98       800\n",
            "           G       0.92      0.85      0.88       800\n",
            "           H       0.98      0.96      0.97       800\n",
            "           I       0.74      0.78      0.76       800\n",
            "           J       0.98      0.96      0.97       800\n",
            "           K       0.99      0.99      0.99       800\n",
            "           L       0.77      0.74      0.75       800\n",
            "           M       0.99      1.00      0.99       800\n",
            "           N       0.96      0.98      0.97       800\n",
            "           O       0.97      0.98      0.98       800\n",
            "           P       0.99      0.99      0.99       800\n",
            "           Q       0.87      0.92      0.90       800\n",
            "           R       0.97      0.98      0.98       800\n",
            "           S       0.99      0.98      0.99       800\n",
            "           T       0.98      0.99      0.98       800\n",
            "           U       0.94      0.96      0.95       800\n",
            "           V       0.96      0.93      0.94       800\n",
            "           W       0.99      0.98      0.99       800\n",
            "           X       0.98      0.98      0.98       800\n",
            "           Y       0.97      0.98      0.97       800\n",
            "           Z       0.99      1.00      0.99       800\n",
            "\n",
            "    accuracy                           0.95     20800\n",
            "   macro avg       0.95      0.95      0.95     20800\n",
            "weighted avg       0.95      0.95      0.95     20800\n",
            "\n"
          ]
        }
      ]
    }
  ]
}